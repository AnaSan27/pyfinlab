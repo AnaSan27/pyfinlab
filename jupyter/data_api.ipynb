{
 "cells": [
  {
   "cell_type": "code",
   "execution_count": 1,
   "id": "860f4e59-f567-47fa-b1d4-3236adfd9345",
   "metadata": {},
   "outputs": [],
   "source": [
    "from datetime import datetime, timedelta\n",
    "from pyfinlab import data_api as api"
   ]
  },
  {
   "cell_type": "markdown",
   "id": "e9c597fe-c770-4577-8987-3f8566875723",
   "metadata": {},
   "source": [
    "## Price data from yfinance"
   ]
  },
  {
   "cell_type": "markdown",
   "id": "17c83f5c-d766-430c-924e-4a0ad0f5207a",
   "metadata": {},
   "source": [
    "'yfinance' is the default api_source as it is free to use for anyone. "
   ]
  },
  {
   "cell_type": "code",
   "execution_count": 2,
   "id": "2097f0c9-b2c6-428a-ad4f-c4ea2733dc7a",
   "metadata": {},
   "outputs": [],
   "source": [
    "# tickers formatted for yfinance api\n",
    "tickers = ['SPY', 'AGG', 'GLD', 'TAIL', 'GBTC']"
   ]
  },
  {
   "cell_type": "code",
   "execution_count": 3,
   "id": "71f2a583-b5e1-4598-afc7-b043c3f671cd",
   "metadata": {},
   "outputs": [],
   "source": [
    "# dates formatted for yfinance api\n",
    "start_date = '2021-07-01'\n",
    "end_date = (datetime.today() - timedelta(days=0)).strftime('%Y-%m-%d')"
   ]
  },
  {
   "cell_type": "code",
   "execution_count": 4,
   "id": "c3812c47-a66f-4456-ba38-0daf905acec1",
   "metadata": {},
   "outputs": [
    {
     "name": "stdout",
     "output_type": "stream",
     "text": [
      "[*********************100%***********************]  5 of 5 completed\n"
     ]
    },
    {
     "data": {
      "text/html": [
       "<div>\n",
       "<style scoped>\n",
       "    .dataframe tbody tr th:only-of-type {\n",
       "        vertical-align: middle;\n",
       "    }\n",
       "\n",
       "    .dataframe tbody tr th {\n",
       "        vertical-align: top;\n",
       "    }\n",
       "\n",
       "    .dataframe thead th {\n",
       "        text-align: right;\n",
       "    }\n",
       "</style>\n",
       "<table border=\"1\" class=\"dataframe\">\n",
       "  <thead>\n",
       "    <tr style=\"text-align: right;\">\n",
       "      <th></th>\n",
       "      <th>AGG</th>\n",
       "      <th>GBTC</th>\n",
       "      <th>GLD</th>\n",
       "      <th>SPY</th>\n",
       "      <th>TAIL</th>\n",
       "    </tr>\n",
       "    <tr>\n",
       "      <th>Date</th>\n",
       "      <th></th>\n",
       "      <th></th>\n",
       "      <th></th>\n",
       "      <th></th>\n",
       "      <th></th>\n",
       "    </tr>\n",
       "  </thead>\n",
       "  <tbody>\n",
       "    <tr>\n",
       "      <th>2021-07-01</th>\n",
       "      <td>115.110001</td>\n",
       "      <td>28.469999</td>\n",
       "      <td>166.199997</td>\n",
       "      <td>430.429993</td>\n",
       "      <td>18.670000</td>\n",
       "    </tr>\n",
       "    <tr>\n",
       "      <th>2021-07-02</th>\n",
       "      <td>115.360001</td>\n",
       "      <td>28.580000</td>\n",
       "      <td>167.289993</td>\n",
       "      <td>433.720001</td>\n",
       "      <td>18.690001</td>\n",
       "    </tr>\n",
       "    <tr>\n",
       "      <th>2021-07-06</th>\n",
       "      <td>115.730003</td>\n",
       "      <td>28.719999</td>\n",
       "      <td>168.119995</td>\n",
       "      <td>432.929993</td>\n",
       "      <td>18.790001</td>\n",
       "    </tr>\n",
       "  </tbody>\n",
       "</table>\n",
       "</div>"
      ],
      "text/plain": [
       "                   AGG       GBTC         GLD         SPY       TAIL\n",
       "Date                                                                \n",
       "2021-07-01  115.110001  28.469999  166.199997  430.429993  18.670000\n",
       "2021-07-02  115.360001  28.580000  167.289993  433.720001  18.690001\n",
       "2021-07-06  115.730003  28.719999  168.119995  432.929993  18.790001"
      ]
     },
     "execution_count": 4,
     "metadata": {},
     "output_type": "execute_result"
    }
   ],
   "source": [
    "api.price_history(tickers, start_date, end_date, api_source='yfinance')"
   ]
  },
  {
   "cell_type": "markdown",
   "id": "87d8533c-8aa9-4dff-b4a1-1863aaace57e",
   "metadata": {},
   "source": [
    "## Price data from bloomberg"
   ]
  },
  {
   "cell_type": "markdown",
   "id": "2dadddde-d829-4e75-8cf8-3307af49edcb",
   "metadata": {},
   "source": [
    "You must have a Bloomberg Professional Service subscription to use 'bloomberg' as api_source. Use 'yfinance' if you do not have a subscription as it is free to use. "
   ]
  },
  {
   "cell_type": "code",
   "execution_count": 5,
   "id": "8b709445-ffdb-4740-b12c-ef8b653e3ae0",
   "metadata": {},
   "outputs": [],
   "source": [
    "# tickers formatted for Bloomberg api\n",
    "tickers = ['SPY US Equity', 'AGG US Equity', 'GLD US Equity', 'TAIL US Equity', 'GBTC US Equity']"
   ]
  },
  {
   "cell_type": "code",
   "execution_count": 6,
   "id": "98c4315d-bde0-481c-88e3-d95644718af8",
   "metadata": {},
   "outputs": [],
   "source": [
    "# dates formatted for bloomberg api\n",
    "start_date = '07/01/2021'\n",
    "end_date = (datetime.today() - timedelta(days=0)).strftime('%m/%d/%Y')"
   ]
  },
  {
   "cell_type": "code",
   "execution_count": 7,
   "id": "25447163-aa01-4f03-997a-61138c0127e2",
   "metadata": {},
   "outputs": [
    {
     "data": {
      "text/html": [
       "<div>\n",
       "<style scoped>\n",
       "    .dataframe tbody tr th:only-of-type {\n",
       "        vertical-align: middle;\n",
       "    }\n",
       "\n",
       "    .dataframe tbody tr th {\n",
       "        vertical-align: top;\n",
       "    }\n",
       "\n",
       "    .dataframe thead th {\n",
       "        text-align: right;\n",
       "    }\n",
       "</style>\n",
       "<table border=\"1\" class=\"dataframe\">\n",
       "  <thead>\n",
       "    <tr style=\"text-align: right;\">\n",
       "      <th></th>\n",
       "      <th>SPY US Equity</th>\n",
       "      <th>AGG US Equity</th>\n",
       "      <th>GLD US Equity</th>\n",
       "      <th>TAIL US Equity</th>\n",
       "      <th>GBTC US Equity</th>\n",
       "    </tr>\n",
       "    <tr>\n",
       "      <th>date</th>\n",
       "      <th></th>\n",
       "      <th></th>\n",
       "      <th></th>\n",
       "      <th></th>\n",
       "      <th></th>\n",
       "    </tr>\n",
       "  </thead>\n",
       "  <tbody>\n",
       "    <tr>\n",
       "      <th>2021-07-01</th>\n",
       "      <td>430.43</td>\n",
       "      <td>115.11</td>\n",
       "      <td>166.20</td>\n",
       "      <td>18.67</td>\n",
       "      <td>28.47</td>\n",
       "    </tr>\n",
       "    <tr>\n",
       "      <th>2021-07-02</th>\n",
       "      <td>433.72</td>\n",
       "      <td>115.36</td>\n",
       "      <td>167.29</td>\n",
       "      <td>18.69</td>\n",
       "      <td>28.58</td>\n",
       "    </tr>\n",
       "    <tr>\n",
       "      <th>2021-07-06</th>\n",
       "      <td>432.93</td>\n",
       "      <td>115.73</td>\n",
       "      <td>168.12</td>\n",
       "      <td>18.79</td>\n",
       "      <td>28.72</td>\n",
       "    </tr>\n",
       "    <tr>\n",
       "      <th>2021-07-07</th>\n",
       "      <td>434.46</td>\n",
       "      <td>115.93</td>\n",
       "      <td>168.76</td>\n",
       "      <td>18.86</td>\n",
       "      <td>28.75</td>\n",
       "    </tr>\n",
       "  </tbody>\n",
       "</table>\n",
       "</div>"
      ],
      "text/plain": [
       "            SPY US Equity  AGG US Equity  GLD US Equity  TAIL US Equity  \\\n",
       "date                                                                      \n",
       "2021-07-01         430.43         115.11         166.20           18.67   \n",
       "2021-07-02         433.72         115.36         167.29           18.69   \n",
       "2021-07-06         432.93         115.73         168.12           18.79   \n",
       "2021-07-07         434.46         115.93         168.76           18.86   \n",
       "\n",
       "            GBTC US Equity  \n",
       "date                        \n",
       "2021-07-01           28.47  \n",
       "2021-07-02           28.58  \n",
       "2021-07-06           28.72  \n",
       "2021-07-07           28.75  "
      ]
     },
     "execution_count": 7,
     "metadata": {},
     "output_type": "execute_result"
    }
   ],
   "source": [
    "api.price_history(tickers, start_date, end_date, api_source='bloomberg')"
   ]
  },
  {
   "cell_type": "code",
   "execution_count": null,
   "id": "cf94ae01-0c95-4d45-9d18-254b2ad5d2c9",
   "metadata": {},
   "outputs": [],
   "source": []
  }
 ],
 "metadata": {
  "kernelspec": {
   "display_name": "Python 3",
   "language": "python",
   "name": "python3"
  },
  "language_info": {
   "codemirror_mode": {
    "name": "ipython",
    "version": 3
   },
   "file_extension": ".py",
   "mimetype": "text/x-python",
   "name": "python",
   "nbconvert_exporter": "python",
   "pygments_lexer": "ipython3",
   "version": "3.8.10"
  }
 },
 "nbformat": 4,
 "nbformat_minor": 5
}
