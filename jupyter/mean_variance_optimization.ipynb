{
 "cells": [
  {
   "cell_type": "code",
   "execution_count": 1,
   "id": "538403ad-7199-4368-b139-8eb90cec72c5",
   "metadata": {},
   "outputs": [],
   "source": [
    "import pandas as pd\n",
    "import numpy as np\n",
    "from datetime import datetime, timedelta\n",
    "from pyfinlab import data_api as api\n",
    "from pyfinlab import risk_models as risk\n",
    "from pyfinlab import return_models as ret\n",
    "from portfoliolab.modern_portfolio_theory import MeanVarianceOptimisation\n",
    "from pypfopt import EfficientFrontier"
   ]
  },
  {
   "cell_type": "code",
   "execution_count": 2,
   "id": "4c8a183b-3d5b-4b5b-988c-8d22a9350e16",
   "metadata": {},
   "outputs": [],
   "source": [
    "classification_schema = pd.read_csv('../data/classification_schema.csv')"
   ]
  },
  {
   "cell_type": "code",
   "execution_count": 3,
   "id": "4cf8140a-2a3e-4cfa-a70f-39821b6fed20",
   "metadata": {
    "tags": []
   },
   "outputs": [],
   "source": [
    "tickers = list(classification_schema.TICKER)"
   ]
  },
  {
   "cell_type": "code",
   "execution_count": 4,
   "id": "d736aa5a-f86a-4e8e-ab9d-668275becfb2",
   "metadata": {},
   "outputs": [],
   "source": [
    "start_date = (datetime.today() - timedelta(days=365*5)).strftime('%Y-%m-%d')\n",
    "end_date = (datetime.today() - timedelta(days=0)).strftime('%Y-%m-%d')"
   ]
  },
  {
   "cell_type": "code",
   "execution_count": 5,
   "id": "3fecfc0e-9106-4aeb-ba60-2506f7a6fa2a",
   "metadata": {},
   "outputs": [
    {
     "name": "stdout",
     "output_type": "stream",
     "text": [
      "[*********************100%***********************]  18 of 18 completed\n"
     ]
    }
   ],
   "source": [
    "prices = api.price_history(tickers, start_date, end_date)"
   ]
  },
  {
   "cell_type": "code",
   "execution_count": 6,
   "id": "08e39ac9-bd5f-4dbd-ae36-ea024422da04",
   "metadata": {},
   "outputs": [],
   "source": [
    "rf = 0.013 # risk-free rate to be used"
   ]
  },
  {
   "cell_type": "markdown",
   "id": "59e27523-3425-4500-b464-1ecfa9b8bc0b",
   "metadata": {},
   "source": [
    "## Select Risk Model"
   ]
  },
  {
   "cell_type": "markdown",
   "id": "f9f6206b-dc35-43ba-8451-8d3c9c8e06cc",
   "metadata": {
    "tags": []
   },
   "source": [
    "Comment in and run to see available risk models"
   ]
  },
  {
   "cell_type": "code",
   "execution_count": 28,
   "id": "9ca511cd-1558-4cb5-93c4-c7621edfa112",
   "metadata": {},
   "outputs": [
    {
     "data": {
      "text/plain": [
       "['sample_cov',\n",
       " 'semicovariance',\n",
       " 'exp_cov',\n",
       " 'ledoit_wolf_constant_variance',\n",
       " 'ledoit_wolf_single_factor',\n",
       " 'ledoit_wolf_constant_correlation',\n",
       " 'oracle_approximating']"
      ]
     },
     "execution_count": 28,
     "metadata": {},
     "output_type": "execute_result"
    }
   ],
   "source": [
    "# risk.risk_models[:16] # PortfolioLab risk models\n",
    "risk.risk_models[16:] # PyPortfolioOpt risk models"
   ]
  },
  {
   "cell_type": "code",
   "execution_count": 29,
   "id": "684fccb3-e6e9-49a0-a06a-c5380fcf9686",
   "metadata": {},
   "outputs": [],
   "source": [
    "risk_model = 'sample_cov'\n",
    "S = risk.risk_model(prices, risk_model) * 252"
   ]
  },
  {
   "cell_type": "markdown",
   "id": "895ad0ab-5ffa-4d1b-8e25-0064ade0f188",
   "metadata": {},
   "source": [
    "## Select Return Model"
   ]
  },
  {
   "cell_type": "markdown",
   "id": "e62d9371-614f-40c5-843d-2ee3482bb6d4",
   "metadata": {
    "tags": []
   },
   "source": [
    "Comment in and run to see available return models"
   ]
  },
  {
   "cell_type": "code",
   "execution_count": 40,
   "id": "5f1fed25-1f02-4db7-9107-b60f43c4e4d4",
   "metadata": {},
   "outputs": [
    {
     "data": {
      "text/plain": [
       "['avg_historical_return', 'ema_historical_return', 'capm_return']"
      ]
     },
     "execution_count": 40,
     "metadata": {},
     "output_type": "execute_result"
    }
   ],
   "source": [
    "# ret.return_models[:3] # PortfolioLab return models\n",
    "ret.return_models[3:] # PyPortfolioOpt return models"
   ]
  },
  {
   "cell_type": "code",
   "execution_count": 30,
   "id": "877cc3ec-855d-4264-8c64-7c849ef0f641",
   "metadata": {},
   "outputs": [],
   "source": [
    "return_model = 'mean_historical_return'\n",
    "mu = ret.return_model(prices, return_model, rf=rf)"
   ]
  },
  {
   "cell_type": "markdown",
   "id": "c7aa217e-a9c7-48f4-ad59-0e852a28377e",
   "metadata": {},
   "source": [
    "## Instantiate Class"
   ]
  },
  {
   "cell_type": "code",
   "execution_count": 31,
   "id": "e2999c3f-ab18-486c-8c59-fb794d60255d",
   "metadata": {},
   "outputs": [],
   "source": [
    "mvo = MeanVarianceOptimisation(risk_free_rate=rf)"
   ]
  },
  {
   "cell_type": "markdown",
   "id": "d8b70344-63ba-470a-9869-f2f63bb0ab8d",
   "metadata": {},
   "source": [
    "## Efficent Frontier"
   ]
  },
  {
   "cell_type": "code",
   "execution_count": 32,
   "id": "f3138f4f-2c3d-4fd7-8068-dcfcfc2ab97f",
   "metadata": {},
   "outputs": [
    {
     "data": {
      "image/png": "[encoded data removed]",
      "text/plain": [
       "<Figure size 432x288 with 2 Axes>"
      ]
     },
     "metadata": {
      "needs_background": "light"
     },
     "output_type": "display_data"
    }
   ],
   "source": [
    "expected_returns = mu\n",
    "covariance = S\n",
    "plot = mvo.plot_efficient_frontier(S, max_return=0.4, expected_asset_returns=mu)"
   ]
  },
  {
   "cell_type": "markdown",
   "id": "96000a47-551c-4e03-96cf-c5dace83d393",
   "metadata": {},
   "source": [
    "## Mean-Variance Portfolio Optimization with PortfolioLab"
   ]
  },
  {
   "cell_type": "code",
   "execution_count": 33,
   "id": "6aca5e74-7571-42f4-879f-c10c0d25f1a0",
   "metadata": {},
   "outputs": [
    {
     "name": "stdout",
     "output_type": "stream",
     "text": [
      "Total Weights: 100.0%\n"
     ]
    },
    {
     "data": {
      "text/html": [
       "<div>\n",
       "<style scoped>\n",
       "    .dataframe tbody tr th:only-of-type {\n",
       "        vertical-align: middle;\n",
       "    }\n",
       "\n",
       "    .dataframe tbody tr th {\n",
       "        vertical-align: top;\n",
       "    }\n",
       "\n",
       "    .dataframe thead th {\n",
       "        text-align: right;\n",
       "    }\n",
       "</style>\n",
       "<table border=\"1\" class=\"dataframe\">\n",
       "  <thead>\n",
       "    <tr style=\"text-align: right;\">\n",
       "      <th></th>\n",
       "      <th>Portfolio</th>\n",
       "    </tr>\n",
       "  </thead>\n",
       "  <tbody>\n",
       "    <tr>\n",
       "      <th>SHY</th>\n",
       "      <td>0.958214</td>\n",
       "    </tr>\n",
       "    <tr>\n",
       "      <th>IWF</th>\n",
       "      <td>0.037114</td>\n",
       "    </tr>\n",
       "    <tr>\n",
       "      <th>ANGL</th>\n",
       "      <td>0.004672</td>\n",
       "    </tr>\n",
       "  </tbody>\n",
       "</table>\n",
       "</div>"
      ],
      "text/plain": [
       "      Portfolio\n",
       "SHY    0.958214\n",
       "IWF    0.037114\n",
       "ANGL   0.004672"
      ]
     },
     "execution_count": 33,
     "metadata": {},
     "output_type": "execute_result"
    }
   ],
   "source": [
    "mvo.allocate(\n",
    "    asset_names=prices.columns,\n",
    "    expected_asset_returns=mu,\n",
    "    covariance_matrix=S,\n",
    "    solution='max_sharpe'\n",
    ")\n",
    "weights = mvo.weights.iloc[0].sort_values(ascending=False).round(6).to_frame()\n",
    "weights.columns = ['Portfolio']\n",
    "weights = weights[weights['Portfolio']!=0]\n",
    "print('Total Weights: {}%'.format(weights.sum().squeeze()*100))\n",
    "weights"
   ]
  },
  {
   "cell_type": "code",
   "execution_count": 37,
   "id": "d8eb06ae-7c45-4b6c-be0c-2aff4663896f",
   "metadata": {},
   "outputs": [
    {
     "name": "stdout",
     "output_type": "stream",
     "text": [
      "Portfolio Return = 0.023314833195638197\n",
      "Portfolio Risk = 0.20577830230794295\n",
      "Portfolio Sharpe Ratio = 0.022738531795486277\n"
     ]
    }
   ],
   "source": [
    "mvo.get_portfolio_metrics()"
   ]
  },
  {
   "cell_type": "markdown",
   "id": "2a7948b7-584d-4813-9b3d-2b089c7ba9e0",
   "metadata": {},
   "source": [
    "## Mean-Variance Portfolio Optimization with PyPortfolioOpt"
   ]
  },
  {
   "cell_type": "code",
   "execution_count": 34,
   "id": "96d9915c-d80d-4149-a3fa-3f243dc89bce",
   "metadata": {},
   "outputs": [
    {
     "name": "stdout",
     "output_type": "stream",
     "text": [
      "Total Weights: 99.99999999999999%\n"
     ]
    },
    {
     "data": {
      "text/html": [
       "<div>\n",
       "<style scoped>\n",
       "    .dataframe tbody tr th:only-of-type {\n",
       "        vertical-align: middle;\n",
       "    }\n",
       "\n",
       "    .dataframe tbody tr th {\n",
       "        vertical-align: top;\n",
       "    }\n",
       "\n",
       "    .dataframe thead th {\n",
       "        text-align: right;\n",
       "    }\n",
       "</style>\n",
       "<table border=\"1\" class=\"dataframe\">\n",
       "  <thead>\n",
       "    <tr style=\"text-align: right;\">\n",
       "      <th></th>\n",
       "      <th>Portfolio</th>\n",
       "    </tr>\n",
       "  </thead>\n",
       "  <tbody>\n",
       "    <tr>\n",
       "      <th>SHY</th>\n",
       "      <td>0.5134</td>\n",
       "    </tr>\n",
       "    <tr>\n",
       "      <th>GOVT</th>\n",
       "      <td>0.3188</td>\n",
       "    </tr>\n",
       "    <tr>\n",
       "      <th>IWF</th>\n",
       "      <td>0.1616</td>\n",
       "    </tr>\n",
       "    <tr>\n",
       "      <th>ANGL</th>\n",
       "      <td>0.0062</td>\n",
       "    </tr>\n",
       "  </tbody>\n",
       "</table>\n",
       "</div>"
      ],
      "text/plain": [
       "      Portfolio\n",
       "SHY      0.5134\n",
       "GOVT     0.3188\n",
       "IWF      0.1616\n",
       "ANGL     0.0062"
      ]
     },
     "execution_count": 34,
     "metadata": {},
     "output_type": "execute_result"
    }
   ],
   "source": [
    "ef = EfficientFrontier(mu, S)\n",
    "ef.max_sharpe(risk_free_rate=rf)\n",
    "weights = ef.clean_weights(0.005)\n",
    "weights = pd.DataFrame.from_dict(\n",
    "    weights, orient='index', columns=['Portfolio']).round(4).sort_values(by='Portfolio', ascending=False).round(6)\n",
    "weights = weights[weights['Portfolio']!=0]\n",
    "print('Total Weights: {}%'.format(weights.sum().squeeze()*100))\n",
    "weights"
   ]
  },
  {
   "cell_type": "code",
   "execution_count": 39,
   "id": "a6bdec1d-c8ea-49d3-b88a-3614cadfdef9",
   "metadata": {},
   "outputs": [
    {
     "name": "stdout",
     "output_type": "stream",
     "text": [
      "Expected annual return: 5.2%\n",
      "Annual volatility: 3.2%\n",
      "Sharpe Ratio: 1.22\n"
     ]
    },
    {
     "data": {
      "text/plain": [
       "(0.05249259282190721, 0.03236601972172079, 1.220186886168267)"
      ]
     },
     "execution_count": 39,
     "metadata": {},
     "output_type": "execute_result"
    }
   ],
   "source": [
    "ef.portfolio_performance(verbose=True, risk_free_rate=rf)"
   ]
  },
  {
   "cell_type": "code",
   "execution_count": null,
   "id": "4d459b0c-3cd5-46b2-8aa4-5dac44d37499",
   "metadata": {},
   "outputs": [],
   "source": []
  }
 ],
 "metadata": {
  "kernelspec": {
   "display_name": "Python 3 (ipykernel)",
   "language": "python",
   "name": "python3"
  },
  "language_info": {
   "codemirror_mode": {
    "name": "ipython",
    "version": 3
   },
   "file_extension": ".py",
   "mimetype": "text/x-python",
   "name": "python",
   "nbconvert_exporter": "python",
   "pygments_lexer": "ipython3",
   "version": "3.8.10"
  }
 },
 "nbformat": 4,
 "nbformat_minor": 5
}
